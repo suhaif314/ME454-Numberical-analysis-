{
 "cells": [
  {
   "cell_type": "code",
   "execution_count": 4,
   "metadata": {},
   "outputs": [
    {
     "name": "stderr",
     "output_type": "stream",
     "text": [
      "[nltk_data] Downloading package punkt to\n",
      "[nltk_data]     C:\\Users\\DELL\\AppData\\Roaming\\nltk_data...\n",
      "[nltk_data]   Package punkt is already up-to-date!\n",
      "[nltk_data] Downloading package averaged_perceptron_tagger to\n",
      "[nltk_data]     C:\\Users\\DELL\\AppData\\Roaming\\nltk_data...\n",
      "[nltk_data]   Package averaged_perceptron_tagger is already up-to-\n",
      "[nltk_data]       date!\n"
     ]
    }
   ],
   "source": [
    "import nltk\n",
    "nltk.download('punkt')\n",
    "import nltk\n",
    "nltk.download('averaged_perceptron_tagger')\n",
    "import nltk\n",
    "nltk.data.path.append(\"/path/to/nltk_data\")"
   ]
  },
  {
   "cell_type": "code",
   "execution_count": 5,
   "metadata": {},
   "outputs": [
    {
     "name": "stdout",
     "output_type": "stream",
     "text": [
      "['Which', 'system', 'is', 'in', 'the', 'blockage', 'on', 'ship', 'umbra', '?']\n"
     ]
    }
   ],
   "source": [
    "import nltk\n",
    "from nltk.tokenize import word_tokenize\n",
    "\n",
    "def tokenize_query(query):\n",
    "    tokens = word_tokenize(query)\n",
    "    return tokens\n",
    "\n",
    "# Example\n",
    "query = \"Which system is in the blockage on ship umbra?\"\n",
    "tokens = tokenize_query(query)\n",
    "print(tokens)\n",
    "\n"
   ]
  },
  {
   "cell_type": "code",
   "execution_count": 18,
   "metadata": {},
   "outputs": [
    {
     "name": "stdout",
     "output_type": "stream",
     "text": [
      "[('Which', 'JJ'), ('system', 'NN'), ('is', 'VBZ'), ('in', 'IN'), ('the', 'DT'), ('blockage', 'NN'), ('on', 'IN'), ('ship', 'NN'), ('umbra', 'NN'), ('?', '.')]\n",
      "[('Name', 'NN'), ('of', 'IN'), ('the', 'DT'), ('ship', 'NN'), ('which', 'WDT'), ('is', 'VBZ'), ('in', 'IN'), ('blockage', 'NN'), ('and', 'CC'), ('has', 'VBZ'), ('the', 'DT'), ('first', 'JJ'), ('letter', 'NN'), ('as', 'IN'), ('‘', 'NN'), ('g', 'NN'), ('’', 'NN'), ('?', '.')]\n"
     ]
    }
   ],
   "source": [
    "\n",
    "\n",
    "\n",
    "\n",
    "from nltk import pos_tag\n",
    "from nltk.tokenize import word_tokenize\n",
    "\n",
    "def pos_tagging(query):\n",
    "    tokens = word_tokenize(query)\n",
    "    tagged = pos_tag(tokens)\n",
    "    return tagged\n",
    "\n",
    "# Example\n",
    "query = \"Which system is in the blockage on ship umbra?\"\n",
    "pos_tags = pos_tagging(query)\n",
    "print(pos_tags)\n",
    "query2 = \"Name of the ship which is in blockage and has the first letter as ‘g’?\"\n",
    "pos_tags2 = pos_tagging(query2)\n",
    "print(pos_tags2)"
   ]
  },
  {
   "cell_type": "code",
   "execution_count": 16,
   "metadata": {},
   "outputs": [],
   "source": [
    "import spacy\n",
    "\n",
    "nlp = spacy.load(\"en_core_web_sm\")\n",
    "doc = nlp(\"Which system is in the blockage on ship umbra?\")\n",
    "\n",
    "for ent in doc.ents:\n",
    "    print(ent.text, ent.start_char, ent.end_char, ent.label_)\n"
   ]
  }
 ],
 "metadata": {
  "kernelspec": {
   "display_name": "Python 3",
   "language": "python",
   "name": "python3"
  },
  "language_info": {
   "codemirror_mode": {
    "name": "ipython",
    "version": 3
   },
   "file_extension": ".py",
   "mimetype": "text/x-python",
   "name": "python",
   "nbconvert_exporter": "python",
   "pygments_lexer": "ipython3",
   "version": "3.11.5"
  }
 },
 "nbformat": 4,
 "nbformat_minor": 2
}
